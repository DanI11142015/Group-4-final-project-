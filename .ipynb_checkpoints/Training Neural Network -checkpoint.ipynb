{
 "cells": [
  {
   "cell_type": "code",
   "execution_count": 2,
   "id": "611bcd9f",
   "metadata": {},
   "outputs": [],
   "source": [
    "#adding dependancies \n",
    "\n",
    "import json \n",
    "import pandas as pd \n",
    "import numpy as np \n",
    "import tensorflow as tf\n",
    "from tensorflow import keras\n",
    "from tensorflow.keras.models import Sequential\n",
    "from tensorflow.keras.layers import Dense, Embedding, GlobalAveragePooling1D\n",
    "from tensorflow.keras.preprocessing.text import Tokenizer\n",
    "from tensorflow.keras.preprocessing.sequence import pad_sequences\n",
    "from sklearn.preprocessing import LabelEncoder"
   ]
  },
  {
   "cell_type": "code",
   "execution_count": 7,
   "id": "37045b45",
   "metadata": {},
   "outputs": [],
   "source": [
    "#reading in JSON files \n",
    "\n",
    "with open('/Users/danielleb./Documents/GitHub/Group-4-final-project-/resources/test_clean_data.json') as file:\n",
    "    data = json.load(file)\n",
    "    \n",
    "diagnosis = []\n",
    "symptoms1 = []\n",
    "symptoms2 = []\n",
    "symptoms3 = []\n",
    "symptoms4 = []\n",
    "\n",
    "\n",
    "\n",
    "for disease in data[\"Disease\"]:\n",
    "    \n",
    "        diagnosis.append(disease)\n",
    "        \n",
    "for symptoms_1 in data[\"Symptom1\"]:\n",
    "    \n",
    "    symptoms1.append(symptoms1)\n",
    "    \n",
    "for symptoms_2 in data [\"Symptom2\"]:\n",
    "    \n",
    "    symptoms2.append(symptoms2)\n",
    "    \n",
    "for symptoms_3 in data [\"Symptom3\"]:  \n",
    "\n",
    "    symptoms3.append(symptoms3)\n",
    "    \n",
    "for symptoms_4 in data [\"Symptom4\"]:\n",
    "    \n",
    "     symptoms4.append(symptoms4)\n",
    "    \n",
    "        "
   ]
  },
  {
   "cell_type": "code",
   "execution_count": null,
   "id": "abb6c6b0",
   "metadata": {},
   "outputs": [],
   "source": []
  }
 ],
 "metadata": {
  "kernelspec": {
   "display_name": "Python 3 (ipykernel)",
   "language": "python",
   "name": "python3"
  },
  "language_info": {
   "codemirror_mode": {
    "name": "ipython",
    "version": 3
   },
   "file_extension": ".py",
   "mimetype": "text/x-python",
   "name": "python",
   "nbconvert_exporter": "python",
   "pygments_lexer": "ipython3",
   "version": "3.9.13"
  }
 },
 "nbformat": 4,
 "nbformat_minor": 5
}
