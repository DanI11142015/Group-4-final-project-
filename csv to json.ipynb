{
 "cells": [
  {
   "cell_type": "code",
   "execution_count": 1,
   "id": "3dd40b8d",
   "metadata": {},
   "outputs": [],
   "source": [
    "import csv\n",
    "import json\n"
   ]
  },
  {
   "cell_type": "code",
   "execution_count": 5,
   "id": "3e5d6092",
   "metadata": {},
   "outputs": [],
   "source": [
    "import pandas as pd\n",
    "df = pd.read_csv (r'C:\\Users\\degin\\Documents\\Group-4-final-project-\\resources\\cleandata.csv')\n",
    "df.to_json (r'C:\\Users\\degin\\Documents\\Group-4-final-project-\\resources\\test_clean_data.json')\n"
   ]
  },
  {
   "cell_type": "code",
   "execution_count": null,
   "id": "ee3efa3e",
   "metadata": {},
   "outputs": [],
   "source": []
  }
 ],
 "metadata": {
  "kernelspec": {
   "display_name": "PythonData",
   "language": "python",
   "name": "pythondata"
  },
  "language_info": {
   "codemirror_mode": {
    "name": "ipython",
    "version": 3
   },
   "file_extension": ".py",
   "mimetype": "text/x-python",
   "name": "python",
   "nbconvert_exporter": "python",
   "pygments_lexer": "ipython3",
   "version": "3.7.7"
  }
 },
 "nbformat": 4,
 "nbformat_minor": 5
}
